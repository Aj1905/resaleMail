{
 "cells": [
  {
   "cell_type": "code",
   "execution_count": 1,
   "metadata": {},
   "outputs": [],
   "source": [
    "from selenium import webdriver\n",
    "from selenium.webdriver.common.by import By\n",
    "from bs4 import BeautifulSoup\n",
    "import time\n",
    "import re"
   ]
  },
  {
   "cell_type": "code",
   "execution_count": 7,
   "metadata": {},
   "outputs": [],
   "source": [
    "def scrape_products():\n",
    "    # Chromeドライバのオプション設定（必要に応じてヘッドレスモードなどの設定を追加してください）\n",
    "    options = webdriver.ChromeOptions()\n",
    "    # options.add_argument('--headless')  # ヘッドレスモードにする場合はコメントを外してください\n",
    "    driver = webdriver.Chrome(options=options)\n",
    "    \n",
    "    # サイトURL (site[0]のURL)\n",
    "    url = \"https://www.mobile-ichiban.com/Prod/2\"\n",
    "    driver.get(url)\n",
    "    \n",
    "    # ページが動的に読み込まれる場合は、十分な待機時間またはWebDriverWaitを使用してください\n",
    "    time.sleep(5)  # 簡易的な待機（適宜調整してください）\n",
    "    \n",
    "    # site.jsonのlist XPath要素 \"//*[@id=\\\"dateAndPager\\\"]/div[2]\" で要素を取得\n",
    "    list_element = driver.find_element(By.XPATH, '//*[@id=\"dateAndPager\"]/div[2]')\n",
    "    html = list_element.get_attribute(\"innerHTML\")\n",
    "    \n",
    "    # BeautifulSoupでHTMLをパース\n",
    "    soup = BeautifulSoup(html, 'html.parser')\n",
    "    \n",
    "    # 商品が格納されているdivのクラスは \"col-6 col-md-4 col-lg-3 mb-1\" であると想定\n",
    "    product_divs = soup.find_all(\"div\", class_=\"card-body text-center py-1 px-0\")\n",
    "    \n",
    "    products = []\n",
    "    for prod in product_divs:\n",
    "        # 商品名はcard-body内の最初の<label>タグ（classに\"hideText\"が含まれる）から取得\n",
    "        name_label = prod.find(\"label\", class_=re.compile(\"hideText\"))\n",
    "        name = name_label.get_text(strip=True) if name_label else \"\"\n",
    "    \n",
    "        # 価格は、idが \"NewPrice_...\" となっている<label>タグから取得\n",
    "        price_label = prod.find(\"label\", id=re.compile(r\"^NewPrice_\"))\n",
    "        price = price_label.get_text(strip=True) if price_label else \"\"\n",
    "    \n",
    "        # 商品の情報を辞書形式で格納\n",
    "        product = {\"name\": name, \"price\": price}\n",
    "        products.append(product)\n",
    "    \n",
    "    driver.quit()\n",
    "    return products"
   ]
  },
  {
   "cell_type": "code",
   "execution_count": 8,
   "metadata": {},
   "outputs": [],
   "source": [
    "a = scrape_products()"
   ]
  },
  {
   "cell_type": "code",
   "execution_count": 9,
   "metadata": {},
   "outputs": [
    {
     "data": {
      "text/plain": [
       "[{'name': 'Nintendo Switch (有機ELモデル) ネオンブルー・ネオンレッド', 'price': '36,000円'},\n",
       " {'name': 'PlayStation 5 slim CFI-2000A01', 'price': '69,000円'},\n",
       " {'name': 'Xbox Series X デジタル エディション EP2-00708 1TB ロボット ホワイト',\n",
       "  'price': '60,000円'},\n",
       " {'name': 'Steam Deck OLED 512GB', 'price': '86,500円'},\n",
       " {'name': 'Meta Quest 3 512GB', 'price': '76,000円'},\n",
       " {'name': 'FUJIFILM チェキ用フィルム 20枚入 INSTAX MINI JP 2', 'price': '2,400円'},\n",
       " {'name': 'FUJIFILM 写ルンです シンプルエース 27枚撮り', 'price': '2,530円'},\n",
       " {'name': 'CANON PowerShot SX740 HS [ブラック]', 'price': '98,000円'},\n",
       " {'name': 'AirPods 4 アクティブノイズキャンセリング搭載モデル MXP93J/A', 'price': '23,500円'},\n",
       " {'name': 'JBL GO 4 ウィンブルドングリーン', 'price': '4,800円'},\n",
       " {'name': 'Bluetoothスピーカー JBL FLIP 6 [ティール]', 'price': '10,500円'},\n",
       " {'name': 'Nintendo Switch（有機ELモデル）ゼルダの伝説  HEG-S-KDAAA', 'price': '44,000円'},\n",
       " {'name': 'Nintendo Switch(有機ELモデル) マリオレッド', 'price': '40,000円'},\n",
       " {'name': 'Nintendo Switch Sports セット', 'price': '30,000円'},\n",
       " {'name': 'Nintendo Switch 有機ELモデル スカーレット・バイオレットエディション', 'price': '44,000円'},\n",
       " {'name': 'Nintendo Switch 有機ELモデル スプラトゥーン3', 'price': '40,500円'},\n",
       " {'name': 'Nintendo Switch (有機ELモデル) ホワイト', 'price': '36,000円'},\n",
       " {'name': 'Nintendo Switch Joy-Con(L) ネオンブルー/(R) ネオンレッド\\u3000新型',\n",
       "  'price': '30,200円'},\n",
       " {'name': 'Nintendo Switch Joy-Con(L)/(R) グレー 新型', 'price': '30,100円'},\n",
       " {'name': 'Nintendo Switch Proコントローラー ゼルダの伝説', 'price': '6,400円'}]"
      ]
     },
     "execution_count": 9,
     "metadata": {},
     "output_type": "execute_result"
    }
   ],
   "source": [
    "a"
   ]
  }
 ],
 "metadata": {
  "kernelspec": {
   "display_name": "venv",
   "language": "python",
   "name": "python3"
  },
  "language_info": {
   "codemirror_mode": {
    "name": "ipython",
    "version": 3
   },
   "file_extension": ".py",
   "mimetype": "text/x-python",
   "name": "python",
   "nbconvert_exporter": "python",
   "pygments_lexer": "ipython3",
   "version": "3.11.5"
  }
 },
 "nbformat": 4,
 "nbformat_minor": 2
}
